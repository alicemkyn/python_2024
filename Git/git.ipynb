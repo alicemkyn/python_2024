{
 "cells": [
  {
   "cell_type": "markdown",
   "metadata": {},
   "source": [
    "<div align=\"center\">\n",
    "    <h1>GIT</h1>\n",
    "    SCM = Source Code Management\n",
    "            OR\n",
    "    Version Control System\n",
    "</div>\n"
   ]
  },
  {
   "cell_type": "code",
   "execution_count": 1,
   "metadata": {},
   "outputs": [
    {
     "name": "stdout",
     "output_type": "stream",
     "text": [
      "git version 2.42.1\n"
     ]
    }
   ],
   "source": [
    "# brew install git\n",
    "! git version \n",
    "# git version 2.30.1 (Apple Git-130)"
   ]
  },
  {
   "cell_type": "markdown",
   "metadata": {},
   "source": [
    "## Configuring GIT"
   ]
  },
  {
   "cell_type": "code",
   "execution_count": 1,
   "metadata": {},
   "outputs": [],
   "source": [
    "! git config --global user.name \"alicemkyn\"\n",
    "! git config --global user.email \"alicemkoyun@gmail.com\"\n",
    "! git config --global init.defaultbranch main # Default branch"
   ]
  },
  {
   "cell_type": "markdown",
   "metadata": {},
   "source": [
    "To see current global configuration:"
   ]
  },
  {
   "cell_type": "code",
   "execution_count": 2,
   "metadata": {},
   "outputs": [
    {
     "name": "stdout",
     "output_type": "stream",
     "text": [
      "user.name=alicemkyn\n",
      "user.email=alicemkoyun@gmail.com\n",
      "init.defaultbranch=main\n"
     ]
    }
   ],
   "source": [
    "! git config --global --list\n",
    "# Type \":q\" to close"
   ]
  },
  {
   "cell_type": "markdown",
   "metadata": {},
   "source": [
    "## Creating new repository\n",
    "A repository is just a folder with all the stuff you want to track. To create one run:"
   ]
  },
  {
   "cell_type": "code",
   "execution_count": 6,
   "metadata": {},
   "outputs": [
    {
     "name": "stdout",
     "output_type": "stream",
     "text": [
      "Initialized empty Git repository in /Users/alicemkoyun/Git/.git/\n"
     ]
    }
   ],
   "source": [
    "! git init"
   ]
  },
  {
   "cell_type": "markdown",
   "metadata": {},
   "source": [
    "This command creates a folder .git inside gitexample folder. That hidden .git folder is what makes a repository: all local configuration and changes are stored there."
   ]
  },
  {
   "cell_type": "markdown",
   "metadata": {},
   "source": [
    "## Making changes\n",
    "Let's create something in the repository:"
   ]
  },
  {
   "cell_type": "code",
   "execution_count": 7,
   "metadata": {},
   "outputs": [],
   "source": [
    "! echo \"Hello, Git\" >> hello.txt"
   ]
  },
  {
   "cell_type": "markdown",
   "metadata": {},
   "source": [
    "If we ran ```git status```, we'll see the newly created file:"
   ]
  },
  {
   "cell_type": "code",
   "execution_count": 8,
   "metadata": {},
   "outputs": [
    {
     "name": "stdout",
     "output_type": "stream",
     "text": [
      "On branch main\n",
      "\n",
      "No commits yet\n",
      "\n",
      "Untracked files:\n",
      "  (use \"git add <file>...\" to include in what will be committed)\n",
      "\t\u001b[31mhello.txt\u001b[m\n",
      "\n",
      "nothing added to commit but untracked files present (use \"git add\" to track)\n"
     ]
    }
   ],
   "source": [
    "! git status\n",
    "# On branch main\n",
    "# \n",
    "# No commits yet\n",
    "# \n",
    "# Untracked files:\n",
    "#  (use \"git add <file>...\" to include in what will be committed)\n",
    "#   hello.txt\n",
    "#\n",
    "# nothing added to commit but untracked files present (use \"git add\" to track)"
   ]
  },
  {
   "cell_type": "markdown",
   "metadata": {},
   "source": [
    "As the output suggests, let add the file. It can be done directly with:"
   ]
  },
  {
   "cell_type": "code",
   "execution_count": 9,
   "metadata": {},
   "outputs": [],
   "source": [
    "! git add . #Or 'git add hello.txt', if we don't want all files"
   ]
  },
  {
   "cell_type": "markdown",
   "metadata": {},
   "source": [
    "If you check on the repository status now, you'll see that the file is added (aka staged), but not yet committed:"
   ]
  },
  {
   "cell_type": "code",
   "execution_count": 10,
   "metadata": {},
   "outputs": [
    {
     "name": "stdout",
     "output_type": "stream",
     "text": [
      "On branch main\n",
      "\n",
      "No commits yet\n",
      "\n",
      "Changes to be committed:\n",
      "  (use \"git rm --cached <file>...\" to unstage)\n",
      "\t\u001b[32mnew file:   hello.txt\u001b[m\n",
      "\n"
     ]
    }
   ],
   "source": [
    "! git status\n",
    "# On branch main\n",
    "# \n",
    "# No commits yet\n",
    "# \n",
    "# Changes to be committed:\n",
    "#  (use \"git rm --cached <file>...\" to unstage)\n",
    "#   new file:   hello.txt"
   ]
  },
  {
   "cell_type": "markdown",
   "metadata": {},
   "source": [
    "To record the changes, let's commit them:"
   ]
  },
  {
   "cell_type": "code",
   "execution_count": 11,
   "metadata": {},
   "outputs": [
    {
     "name": "stdout",
     "output_type": "stream",
     "text": [
      "[main (root-commit) 0d47a44] Add hello.txt\n",
      " 1 file changed, 1 insertion(+)\n",
      " create mode 100644 hello.txt\n"
     ]
    }
   ],
   "source": [
    "! git commit -m \"Add hello.txt\"\n",
    "# [main (root-commit) a07ee27] Adds hello.txt\n",
    "# 1 file changed, 2 insertions(+)\n",
    "# create mode 100644 hello.txt"
   ]
  },
  {
   "cell_type": "markdown",
   "metadata": {},
   "source": [
    "Pro tip: ```git commit -m <MESSAGE>``` is a short hand command, you can use ```git commit``` to open editor (mostly vim) and provide a detailed commit description instead.\n",
    "\n",
    "Let's check the changes with:"
   ]
  },
  {
   "cell_type": "code",
   "execution_count": 12,
   "metadata": {},
   "outputs": [
    {
     "name": "stdout",
     "output_type": "stream",
     "text": [
      "\u001b[33mcommit 0d47a4485565b004a8b7494fb842d6fe1f2b2f82\u001b[m\u001b[33m (\u001b[m\u001b[1;36mHEAD -> \u001b[m\u001b[1;32mmain\u001b[m\u001b[33m)\u001b[m\n",
      "Author: alicemkyn <alicemkoyun@gmail.com>\n",
      "Date:   Sun Jan 7 17:34:04 2024 +0300\n",
      "\n",
      "    Add hello.txt\n"
     ]
    }
   ],
   "source": [
    "! git log\n",
    "# type :q to close"
   ]
  },
  {
   "cell_type": "markdown",
   "metadata": {},
   "source": [
    "It will show something like: <br>\n",
    "\n",
    "commit a07ee270d6bd0419a50d1936ad89b9de0332f375 (HEAD -> main) <br>\n",
    "Author: Your Name <your@email.address> <br>\n",
    "Date:   Sun Jul 11 11:47:16 2021 +0200 <br>\n",
    "\n",
    "    Adds hello.txt\n",
    "(END)\n"
   ]
  },
  {
   "cell_type": "markdown",
   "metadata": {},
   "source": [
    "## Creating Branches"
   ]
  },
  {
   "cell_type": "markdown",
   "metadata": {},
   "source": [
    "Having a separate version of the initial code can be useful in a lot of situation: e.g. when testing out a feature you're unsure about or to avoid code conflicts when working together. That's exactly what a git branch is: it grows from a particular point in history.\n",
    "\n",
    "To create a branch run ```git branch NAME``` and to switch branch run ```git checkout NAME```. Or simply:"
   ]
  },
  {
   "cell_type": "code",
   "execution_count": 13,
   "metadata": {},
   "outputs": [
    {
     "name": "stdout",
     "output_type": "stream",
     "text": [
      "Switched to a new branch 'dev'\n"
     ]
    }
   ],
   "source": [
    "! git checkout -b dev # switches to a new branch called \"dev\"\n",
    "# Switched to a new branch 'dev'\n",
    "# gitexample git:(dev)"
   ]
  },
  {
   "cell_type": "markdown",
   "metadata": {},
   "source": [
    "Let's change something in the hello.txt file and commit the changes:"
   ]
  },
  {
   "cell_type": "code",
   "execution_count": 14,
   "metadata": {},
   "outputs": [
    {
     "name": "stdout",
     "output_type": "stream",
     "text": [
      "[dev 6d51c73] Change hello.txt\n",
      " 1 file changed, 2 insertions(+)\n"
     ]
    }
   ],
   "source": [
    "! echo \"\\nHello, Git Branch\" >> hello.txt\n",
    "! git commit -am \"Change hello.txt\""
   ]
  },
  {
   "cell_type": "markdown",
   "metadata": {},
   "source": [
    "Now let's switch back to main version:"
   ]
  },
  {
   "cell_type": "code",
   "execution_count": 15,
   "metadata": {},
   "outputs": [
    {
     "name": "stdout",
     "output_type": "stream",
     "text": [
      "Switched to branch 'main'\n"
     ]
    },
    {
     "name": "stdout",
     "output_type": "stream",
     "text": [
      "Hello, Git\n"
     ]
    }
   ],
   "source": [
    "! git checkout main \n",
    "! cat hello.txt\n",
    "# Switched to branch 'main'\n",
    "# Hello, Git"
   ]
  },
  {
   "cell_type": "markdown",
   "metadata": {},
   "source": [
    "As you can see, the file contents are still the same as they were. To compare branches we can run:"
   ]
  },
  {
   "cell_type": "code",
   "execution_count": 16,
   "metadata": {},
   "outputs": [
    {
     "name": "stdout",
     "output_type": "stream",
     "text": [
      "\u001b[1mdiff --git a/hello.txt b/hello.txt\u001b[m\n",
      "\u001b[1mindex 360c923..b7aec52 100644\u001b[m\n",
      "\u001b[1m--- a/hello.txt\u001b[m\n",
      "\u001b[1m+++ b/hello.txt\u001b[m\n",
      "\u001b[36m@@ -1,3 +1 @@\u001b[m\n",
      " Hello, Git\u001b[m\n",
      "\u001b[31m-\u001b[m\n",
      "\u001b[31m-Hello, Git Branch\u001b[m\n"
     ]
    }
   ],
   "source": [
    "! git diff dev\n",
    "# diff --git a/hello.txt b/hello.txt\n",
    "# index 360c923..b7aec52 100644\n",
    "# --- a/hello.txt\n",
    "# +++ b/hello.txt\n",
    "# @@ -1,3 +1 @@\n",
    "# Hello, Git\n",
    "# -\n",
    "# -Hello, Git Branch\n",
    "# (END)\n",
    "# type \":q\" to close"
   ]
  },
  {
   "cell_type": "markdown",
   "metadata": {},
   "source": [
    "Let's make changes in main branch as well:"
   ]
  },
  {
   "cell_type": "code",
   "execution_count": 17,
   "metadata": {},
   "outputs": [
    {
     "name": "stdout",
     "output_type": "stream",
     "text": [
      "[main 4c18741] Change hello.txt from main\n",
      " 1 file changed, 2 insertions(+)\n"
     ]
    }
   ],
   "source": [
    "! echo \"\\nHi from Main Branch\" >> hello.txt \n",
    "! git commit -am \"Change hello.txt from main\"\n",
    "# [main 9b60c4b] Change hello.txt from main\n",
    "# 1 file changed, 2 insertions(+)"
   ]
  },
  {
   "cell_type": "markdown",
   "metadata": {},
   "source": [
    "Now let's try to combine the changes:"
   ]
  },
  {
   "cell_type": "code",
   "execution_count": 18,
   "metadata": {},
   "outputs": [
    {
     "name": "stdout",
     "output_type": "stream",
     "text": [
      "Auto-merging hello.txt\n",
      "CONFLICT (content): Merge conflict in hello.txt\n",
      "Automatic merge failed; fix conflicts and then commit the result.\n"
     ]
    }
   ],
   "source": [
    "! git merge dev\n",
    "# Auto-merging hello.txt\n",
    "# CONFLICT (content): Merge conflict in hello.txt\n",
    "# Automatic merge failed; fix conflicts and then commit the result."
   ]
  },
  {
   "cell_type": "markdown",
   "metadata": {},
   "source": [
    "Because the file was changed in the same place twice we got a conflict. Look at the file:"
   ]
  },
  {
   "cell_type": "markdown",
   "metadata": {},
   "source": [
    "cat hello.txt <br>\n",
    "<<<<<<< HEAD<br>\n",
    "Hello, Git<br>\n",
    "\n",
    "Hi from Main Branch<br>\n",
    "==================.<br>\n",
    "Hello, Git<br>\n",
    ".>>>>>>> dev"
   ]
  },
  {
   "cell_type": "markdown",
   "metadata": {},
   "source": [
    "There is also a tool to see changes separately:"
   ]
  },
  {
   "cell_type": "code",
   "execution_count": 19,
   "metadata": {},
   "outputs": [
    {
     "name": "stdout",
     "output_type": "stream",
     "text": [
      "* Unmerged path hello.txt\n",
      "\u001b[1mdiff --git a/hello.txt b/hello.txt\u001b[m\n",
      "\u001b[1mindex db851b0..05492d4 100644\u001b[m\n",
      "\u001b[1m--- a/hello.txt\u001b[m\n",
      "\u001b[1m+++ b/hello.txt\u001b[m\n",
      "\u001b[36m@@ -1,3 +1,7 @@\u001b[m\n",
      " Hello, Git\u001b[m\n",
      " \u001b[m\n",
      "\u001b[32m+\u001b[m\u001b[32m<<<<<<< HEAD\u001b[m\n",
      " Hi from Main Branch\u001b[m\n",
      "\u001b[32m+\u001b[m\u001b[32m=======\u001b[m\n",
      "\u001b[32m+\u001b[m\u001b[32mHello, Git Branch\u001b[m\n",
      "\u001b[32m+\u001b[m\u001b[32m>>>>>>> dev\u001b[m\n",
      "* Unmerged path hello.txt\n",
      "\u001b[1mdiff --git a/hello.txt b/hello.txt\u001b[m\n",
      "\u001b[1mindex 360c923..05492d4 100644\u001b[m\n",
      "\u001b[1m--- a/hello.txt\u001b[m\n",
      "\u001b[1m+++ b/hello.txt\u001b[m\n",
      "\u001b[36m@@ -1,3 +1,7 @@\u001b[m\n",
      " Hello, Git\u001b[m\n",
      " \u001b[m\n",
      "\u001b[32m+\u001b[m\u001b[32m<<<<<<< HEAD\u001b[m\n",
      "\u001b[32m+\u001b[m\u001b[32mHi from Main Branch\u001b[m\n",
      "\u001b[32m+\u001b[m\u001b[32m=======\u001b[m\n",
      " Hello, Git Branch\u001b[m\n",
      "\u001b[32m+\u001b[m\u001b[32m>>>>>>> dev\u001b[m\n"
     ]
    }
   ],
   "source": [
    "! git diff --ours # :q to close \n",
    "! git diff --theirs #:q to close"
   ]
  },
  {
   "cell_type": "markdown",
   "metadata": {},
   "source": [
    "You can manually edit the file and commit the changes, but let's imagine we only want one of the versions. We'll start with aborting merge:"
   ]
  },
  {
   "cell_type": "code",
   "execution_count": 20,
   "metadata": {},
   "outputs": [],
   "source": [
    "! git merge --abort"
   ]
  },
  {
   "cell_type": "markdown",
   "metadata": {},
   "source": [
    "And restarting merge with \"theirs\" strategy, meaning that in case of conflict we'll use whatever incoming branch insists on:"
   ]
  },
  {
   "cell_type": "code",
   "execution_count": 21,
   "metadata": {},
   "outputs": [
    {
     "name": "stdout",
     "output_type": "stream",
     "text": [
      "Auto-merging hello.txt\n",
      "hint: Waiting for your editor to close the file... \u001b7\u001b[?47h\u001b[>4;2m\u001b[?1h\u001b=\u001b[?2004h\u001b[?1004h\u001b[1;24r\u001b[?12h\u001b[?12l\u001b[22;2t\u001b[22;1t\u001b[29m\u001b[m\u001b[H\u001b[2J\u001b[?25l\u001b[24;1H\"~/Git/.git/MERGE_MSG\" 6L, 245B\u001b[2;1H▽\u001b[6n\u001b[2;1H  \u001b[3;1H\u001bPzz\u001b\\\u001b[0%m\u001b[6n\u001b[3;1H           \u001b[1;1H\u001b[>c\u001b]10;?\u0007\u001b]11;?\u0007\u001b[1;1HMerge branch 'dev'\n",
      "# Please enter a commit message to explain why this merge is necessary,\u001b[2;72H\u001b[K\u001b[3;1H# especially if it merges an updated upstream into a topic branch.\u001b[3;67H\u001b[K\u001b[4;1H#\n",
      "# Lines starting with '#' will be ignored, and an empty message aborts\n",
      "# the commit.\n",
      "\u001b[1m\u001b[34m~                                                                               \u001b[8;1H~                                                                               \u001b[9;1H~                                                                               \u001b[10;1H~                                                                               \u001b[11;1H~                                                                               \u001b[12;1H~                                                                               \u001b[13;1H~                                                                               \u001b[14;1H~                                                                               \u001b[15;1H~                                                                               \u001b[16;1H~                                                                               \u001b[17;1H~                                                                               \u001b[18;1H~                                                                               \u001b[19;1H~                                                                               \u001b[20;1H~                                                                               \u001b[21;1H~                                                                               \u001b[22;1H~                                                                               \u001b[23;1H~                                                                               \u001b[1;1H\u001b[?25h\u001b[?4m"
     ]
    }
   ],
   "source": [
    "! git merge -X theirs dev\n",
    "# Auto-merging hello.txt\n",
    "# Merge made by the 'recursive' strategy.\n",
    "# hello.txt | 5 +----\n",
    "# 1 file changed, 1 insertion(+), 4 deletions(-)"
   ]
  },
  {
   "cell_type": "markdown",
   "metadata": {},
   "source": [
    "The opposite to this strategy is \"ours\". Merging both changes together will require manual editing (or use of ```git mergetool```).\n",
    "\n",
    "To see list of all branches run:"
   ]
  },
  {
   "cell_type": "code",
   "execution_count": 1,
   "metadata": {},
   "outputs": [
    {
     "name": "stdout",
     "output_type": "stream",
     "text": [
      "  dev\u001b[m\n",
      "* \u001b[32mmain\u001b[m\n"
     ]
    }
   ],
   "source": [
    "! git branch # type :q to close\n",
    "#  dev\n",
    "# * main"
   ]
  },
  {
   "cell_type": "markdown",
   "metadata": {},
   "source": [
    "Finally, to delete the branch run:"
   ]
  },
  {
   "cell_type": "code",
   "execution_count": 2,
   "metadata": {},
   "outputs": [
    {
     "name": "stdout",
     "output_type": "stream",
     "text": [
      "error: The branch 'dev' is not fully merged.\n",
      "If you are sure you want to delete it, run 'git branch -D dev'.\n"
     ]
    }
   ],
   "source": [
    "! git branch -d dev\n",
    "# Deleted branch dev (was 6259828)."
   ]
  },
  {
   "cell_type": "markdown",
   "metadata": {},
   "source": [
    "## Rebasing Branches"
   ]
  },
  {
   "cell_type": "markdown",
   "metadata": {},
   "source": [
    "Branches \"grow\" from a particular point in git history, rebase allows to change that point. Let's create another branch and add some changes to hello.txt once more time:"
   ]
  },
  {
   "cell_type": "code",
   "execution_count": 3,
   "metadata": {},
   "outputs": [
    {
     "name": "stdout",
     "output_type": "stream",
     "text": [
      "Switched to a new branch 'story'\n",
      "[story 6e52d03] Add story.txt\n",
      " 2 files changed, 2 insertions(+), 1 deletion(-)\n",
      " create mode 100644 story.txt\n"
     ]
    }
   ],
   "source": [
    "! git checkout -b story\n",
    "! echo \"Once upon a time there was a file\" >> story.txt\n",
    "! git add story.txt\n",
    "! git commit -m \"Add story.txt\"\n",
    "# Switched to a new branch 'story'\n",
    "# [story eb996b8] Add story.txt\n",
    "# 1 file changed, 1 insertion! (+)\n",
    "# create mode 100644 story.txt"
   ]
  },
  {
   "cell_type": "markdown",
   "metadata": {},
   "source": [
    "Now, let's come back to the main branch and add changes there:"
   ]
  },
  {
   "cell_type": "code",
   "execution_count": 4,
   "metadata": {},
   "outputs": [
    {
     "name": "stdout",
     "output_type": "stream",
     "text": [
      "Switched to branch 'main'\n",
      "[main be84956] Add changes.txt!\n",
      " 1 file changed, 1 insertion(+)\n",
      " create mode 100644 changes.txt\n"
     ]
    }
   ],
   "source": [
    "! git checkout main\n",
    "! echo \"Other changes\" >> changes.txt\n",
    "! git add changes.txt\n",
    "! git commit -m \"Add changes.txt\"! "
   ]
  },
  {
   "cell_type": "markdown",
   "metadata": {},
   "source": [
    "To replay the changes we made in ```main``` to ```story``` branch run:"
   ]
  },
  {
   "cell_type": "code",
   "execution_count": 5,
   "metadata": {},
   "outputs": [
    {
     "name": "stdout",
     "output_type": "stream",
     "text": [
      "Switched to branch 'story'\n",
      "\u001b[KSuccessfully rebased and updated refs/heads/story.\n"
     ]
    }
   ],
   "source": [
    "! git checkout story \n",
    "! git rebase main\n",
    "# Successfully rebased and updated refs/heads/story."
   ]
  },
  {
   "cell_type": "markdown",
   "metadata": {},
   "source": [
    "You can see new file created in ```main``` branch being added to ```story``` branch:"
   ]
  },
  {
   "cell_type": "code",
   "execution_count": null,
   "metadata": {},
   "outputs": [],
   "source": [
    "! ls\n",
    "# changes.txt hello.txt   story.txt"
   ]
  },
  {
   "cell_type": "markdown",
   "metadata": {},
   "source": [
    "Word of caution: do not rebase branches that someone else might have used, e.g. the main branch. Also, keep in mind that every history manipulation on a remote repository will require forcing these changes to take effect."
   ]
  },
  {
   "cell_type": "markdown",
   "metadata": {},
   "source": [
    "## Remote Repository"
   ]
  },
  {
   "cell_type": "markdown",
   "metadata": {},
   "source": [
    "If you haven't yet, create a GitHub account, login and create a new empty repository (private or public).\n",
    "\n",
    "Assuming the repository name was \"example\" run the following command (change to your username):"
   ]
  },
  {
   "cell_type": "code",
   "execution_count": null,
   "metadata": {},
   "outputs": [],
   "source": [
    "! git remote add origin git@github.com:USERNAME/example.git\n",
    "! git push -u origin main"
   ]
  },
  {
   "cell_type": "markdown",
   "metadata": {},
   "source": [
    "You can refresh the page and see files in main branch. To push all local branches to remote repository run:"
   ]
  },
  {
   "cell_type": "code",
   "execution_count": null,
   "metadata": {},
   "outputs": [],
   "source": [
    "! git push --all origin"
   ]
  },
  {
   "cell_type": "markdown",
   "metadata": {},
   "source": [
    "Let's edit something on GitHub: just click any file and the pencil icon. Add a line with any text you want and press \"Commit changes\".\n",
    "\n",
    "Now run this command locally to get the remote changes:\n"
   ]
  },
  {
   "cell_type": "code",
   "execution_count": null,
   "metadata": {},
   "outputs": [],
   "source": [
    "! git checkout main\n",
    "! git pull"
   ]
  },
  {
   "cell_type": "markdown",
   "metadata": {},
   "source": [
    "## Managing Uncommitted Changes"
   ]
  },
  {
   "cell_type": "markdown",
   "metadata": {},
   "source": [
    "If you want to save your local changes for later you can use ```git stash```:"
   ]
  },
  {
   "cell_type": "code",
   "execution_count": 6,
   "metadata": {},
   "outputs": [
    {
     "name": "stdout",
     "output_type": "stream",
     "text": [
      "Saved working directory and index state WIP on main: fcb0dea Add story.txt\n"
     ]
    }
   ],
   "source": [
    "! echo \"Changes\" >> hello.txt\n",
    "! git stash\n"
   ]
  },
  {
   "cell_type": "markdown",
   "metadata": {},
   "source": [
    "Now you can use following command to check, apply or discard these changes:"
   ]
  },
  {
   "cell_type": "code",
   "execution_count": 7,
   "metadata": {},
   "outputs": [
    {
     "name": "stdout",
     "output_type": "stream",
     "text": [
      "stash@{0}: WIP on main: fcb0dea Add story.txt\n",
      "On branch main\n",
      "Changes not staged for commit:\n",
      "  (use \"git add <file>...\" to update what will be committed)\n",
      "  (use \"git restore <file>...\" to discard changes in working directory)\n",
      "\t\u001b[31mmodified:   hello.txt\u001b[m\n",
      "\n",
      "no changes added to commit (use \"git add\" and/or \"git commit -a\")\n",
      "Dropped refs/stash@{0} (7af4df5d4d1ad2c87aa00c25de51c13c521ef7a9)\n",
      "No stash entries found.\n"
     ]
    }
   ],
   "source": [
    "! git stash list\n",
    "# stash@{0}: WIP on main: 92354c8 Update changes.txt\n",
    "! git stash pop # to apply changes\n",
    "! git stash drop # to drop changes\n"
   ]
  },
  {
   "cell_type": "markdown",
   "metadata": {},
   "source": [
    "Pro tip: you can use stash number, i.e. ```git stash pop 0``` to apply a particular stash or ```git stash drop 0``` to drop it.\n",
    "\n",
    "If you want to discard all local changes and simply restore repository to last committed changes run:"
   ]
  },
  {
   "cell_type": "code",
   "execution_count": 8,
   "metadata": {},
   "outputs": [],
   "source": [
    "! git restore ."
   ]
  },
  {
   "cell_type": "markdown",
   "metadata": {},
   "source": [
    "## Managing Committed Changes"
   ]
  },
  {
   "cell_type": "markdown",
   "metadata": {},
   "source": [
    "Once you create a commit, this change is saved in local git history. As mentioned before, all changes affecting remote history would require a ```git push --force```. Keep it in mind for all following commands.\n",
    "\n",
    "Let's start with editing the last commit message :"
   ]
  },
  {
   "cell_type": "code",
   "execution_count": 9,
   "metadata": {},
   "outputs": [
    {
     "name": "stdout",
     "output_type": "stream",
     "text": [
      "hint: Waiting for your editor to close the file... \u001b7\u001b[?47h\u001b[>4;2m\u001b[?1h\u001b=\u001b[?2004h\u001b[?1004h\u001b[1;24r\u001b[?12h\u001b[?12l\u001b[22;2t\u001b[22;1t\u001b[29m\u001b[m\u001b[H\u001b[2J\u001b[?25l\u001b[24;1H\"~/Git/.git/COMMIT_EDITMSG\" 12L, 291B\u001b[2;1H▽\u001b[6n\u001b[2;1H  \u001b[3;1H\u001bPzz\u001b\\\u001b[0%m\u001b[6n\u001b[3;1H           \u001b[1;1H\u001b[>c\u001b]10;?\u0007\u001b]11;?\u0007\u001b[1;1HAdd story.txt\u001b[2;1H\u001b[K\u001b[3;1H# Please enter the commit message for your changes. Lines starting\u001b[3;67H\u001b[K\u001b[4;1H# with '#' will be ignored, and an empty message aborts the commit.\n",
      "#\n",
      "# Date:      Sun Jan 7 18:18:01 2024 +0300\n",
      "#\n",
      "# On branch main\n",
      "# Changes to be committed:\n",
      "#\u001b[7Cmodified:   hello.txt\n",
      "#\u001b[7Cnew file:   story.txt\n",
      "#\n",
      "\u001b[1m\u001b[34m~                                                                               \u001b[14;1H~                                                                               \u001b[15;1H~                                                                               \u001b[16;1H~                                                                               \u001b[17;1H~                                                                               \u001b[18;1H~                                                                               \u001b[19;1H~                                                                               \u001b[20;1H~                                                                               \u001b[21;1H~                                                                               \u001b[22;1H~                                                                               \u001b[23;1H~                                                                               \u001b[1;1H\u001b[?25h\u001b[?4m\u001b[?25l\u001b[m\u001b[24;1HType  :qa  and press <Enter> to exit Vim\u0007\u001b[1;1H\u001b[?25h"
     ]
    }
   ],
   "source": [
    "! git commit --amend # type :wq to save and close\n",
    "# Press \"i\" to edit, \"Esc\" to stop editing"
   ]
  },
  {
   "cell_type": "markdown",
   "metadata": {},
   "source": [
    "How about we reset everything to the very beginning?\n",
    "To find the ID of the very first commit run this command and scroll (with arrow down) to the very end:"
   ]
  },
  {
   "cell_type": "code",
   "execution_count": 10,
   "metadata": {},
   "outputs": [
    {
     "name": "stdout",
     "output_type": "stream",
     "text": [
      "\u001b[33mcommit fcb0dea\u001b[m\u001b[33m (\u001b[m\u001b[1;36mHEAD -> \u001b[m\u001b[1;32mmain\u001b[m\u001b[33m, \u001b[m\u001b[1;32mstory\u001b[m\u001b[33m)\u001b[m\n",
      "Author: alicemkyn <alicemkoyun@gmail.com>\n",
      "Date:   Sun Jan 7 18:18:01 2024 +0300\n",
      "\n",
      "    Add story.txt\n",
      "\n",
      "\u001b[33mcommit be84956\u001b[m\n",
      "Author: alicemkyn <alicemkoyun@gmail.com>\n",
      "Date:   Sun Jan 7 18:18:30 2024 +0300\n",
      "\n",
      "    Add changes.txt!\n",
      "\n",
      "\u001b[33mcommit 4c18741\u001b[m\n",
      "Author: alicemkyn <alicemkoyun@gmail.com>\n",
      "Date:   Sun Jan 7 18:05:09 2024 +0300\n",
      "\n",
      "    Change hello.txt from main\n",
      "\n",
      "\u001b[33mcommit 0d47a44\u001b[m\n",
      "Author: alicemkyn <alicemkoyun@gmail.com>\n",
      "Date:   Sun Jan 7 17:34:04 2024 +0300\n",
      "\n",
      "    Add hello.txt\n"
     ]
    }
   ],
   "source": [
    "! git log --abbrev-commit\n",
    "# commit a07ee27\n",
    "# Author: Your Name <your@email.address>\n",
    "# Date:   Sun Jul 11 11:47:16 2021 +0200\n",
    "\n",
    "    # Adds hello.txt\n",
    "# (END)\n",
    "# type \":q\" to close"
   ]
  },
  {
   "cell_type": "markdown",
   "metadata": {},
   "source": [
    "Now run this to reset the repository, but keep all changes unstaged:"
   ]
  },
  {
   "cell_type": "code",
   "execution_count": 11,
   "metadata": {},
   "outputs": [
    {
     "name": "stdout",
     "output_type": "stream",
     "text": [
      "fatal: ambiguous argument 'COMMIT': unknown revision or path not in the working tree.\n",
      "Use '--' to separate paths from revisions, like this:\n",
      "'git <command> [<revision>...] -- [<file>...]'\n"
     ]
    }
   ],
   "source": [
    "! git reset --soft COMMIT # e.g. a07ee27"
   ]
  },
  {
   "cell_type": "markdown",
   "metadata": {},
   "source": [
    "As opposite to it, you can also make a hard reset and get rid of all the changes with git reset --hard COMMIT. There are several other types of reset that you can learn from [git documentation](https://git-scm.com/docs/git-reset)"
   ]
  },
  {
   "cell_type": "markdown",
   "metadata": {},
   "source": [
    "## Aliases"
   ]
  },
  {
   "cell_type": "markdown",
   "metadata": {},
   "source": [
    "Most of the times you'll be using just a handful of command (checkout, add ,commit, pull, push and merge mostly), but are some things you might want to have around for \"just in case\".\n",
    "\n",
    "One way to store those are git aliases. To configure an alias just set it in a config. For example, one alias I use a lot is ```git tree```, it prints a nice history log in a form of a tree:"
   ]
  },
  {
   "cell_type": "code",
   "execution_count": null,
   "metadata": {},
   "outputs": [],
   "source": [
    "! git config --global alias.tree 'log --graph --decorate --pretty=oneline --abbrev-commit'\n",
    "# Try it with `git tree`"
   ]
  },
  {
   "cell_type": "markdown",
   "metadata": {},
   "source": [
    "Another useful alias deletes all merged branches:"
   ]
  },
  {
   "cell_type": "code",
   "execution_count": null,
   "metadata": {},
   "outputs": [],
   "source": [
    "! git config --global alias.clbr '!git branch --merged | grep -v \\* | xargs git branch -D' "
   ]
  }
 ],
 "metadata": {
  "kernelspec": {
   "display_name": "Python 3",
   "language": "python",
   "name": "python3"
  },
  "language_info": {
   "codemirror_mode": {
    "name": "ipython",
    "version": 3
   },
   "file_extension": ".py",
   "mimetype": "text/x-python",
   "name": "python",
   "nbconvert_exporter": "python",
   "pygments_lexer": "ipython3",
   "version": "3.10.13"
  }
 },
 "nbformat": 4,
 "nbformat_minor": 2
}

{
 "cells": [
  {
   "cell_type": "code",
   "execution_count": 3,
   "id": "4054b0d1-1904-4afe-87eb-1da0c51721d7",
   "metadata": {
    "tags": []
   },
   "outputs": [],
   "source": [
    "import spotipy\n",
    "import os"
   ]
  },
  {
   "cell_type": "code",
   "execution_count": 1,
   "id": "8a5e0d02-e499-441a-8e2c-72551101ec11",
   "metadata": {},
   "outputs": [
    {
     "ename": "NameError",
     "evalue": "name 'spotipy' is not defined",
     "output_type": "error",
     "traceback": [
      "\u001b[0;31m---------------------------------------------------------------------------\u001b[0m",
      "\u001b[0;31mNameError\u001b[0m                                 Traceback (most recent call last)",
      "Cell \u001b[0;32mIn[1], line 1\u001b[0m\n\u001b[0;32m----> 1\u001b[0m auth_manager \u001b[38;5;241m=\u001b[39m \u001b[43mspotipy\u001b[49m\u001b[38;5;241m.\u001b[39moauth2\u001b[38;5;241m.\u001b[39mSpotifyClientCredentials()\n\u001b[1;32m      2\u001b[0m spotify_client \u001b[38;5;241m=\u001b[39m spotipy\u001b[38;5;241m.\u001b[39mSpotify(auth_manager\u001b[38;5;241m=\u001b[39mspotipy\u001b[38;5;241m.\u001b[39moauth2\u001b[38;5;241m.\u001b[39mSpotifyOAuth(client_id\u001b[38;5;241m=\u001b[39m\u001b[38;5;124m'\u001b[39m\u001b[38;5;124m'\u001b[39m, client_secret\u001b[38;5;241m=\u001b[39m\u001b[38;5;124m'\u001b[39m\u001b[38;5;124m'\u001b[39m,redirect_uri\u001b[38;5;241m=\u001b[39m\u001b[38;5;124m'\u001b[39m\u001b[38;5;124mhttp://localhost:8888/callback\u001b[39m\u001b[38;5;124m'\u001b[39m\n\u001b[1;32m      3\u001b[0m , scope\u001b[38;5;241m=\u001b[39m\u001b[38;5;124m'\u001b[39m\u001b[38;5;124mplaylist-read-private\u001b[39m\u001b[38;5;124m'\u001b[39m))\n",
      "\u001b[0;31mNameError\u001b[0m: name 'spotipy' is not defined"
     ]
    }
   ],
   "source": [
    "auth_manager = spotipy.oauth2.SpotifyClientCredentials()\n",
    "spotify_client = spotipy.Spotify(auth_manager=spotipy.oauth2.SpotifyOAuth(client_id='', client_secret='',redirect_uri='http://localhost:8888/callback'\n",
    ", scope='playlist-read-private'))"
   ]
  },
  {
   "cell_type": "code",
   "execution_count": null,
   "id": "f08cae28-2762-4bce-aa09-f19d23d3d295",
   "metadata": {
    "tags": []
   },
   "outputs": [],
   "source": [
    "#resp = spotify_client.playlist_items(\"7z02AyvkFBTpUlFCQzH7Bw\")"
   ]
  },
  {
   "cell_type": "code",
   "execution_count": 9,
   "id": "8929550d-1fe4-49a3-8cc9-ea25c6c0ccdf",
   "metadata": {
    "tags": []
   },
   "outputs": [
    {
     "ename": "OSError",
     "evalue": "[Errno 48] Address already in use",
     "output_type": "error",
     "traceback": [
      "\u001b[0;31m---------------------------------------------------------------------------\u001b[0m",
      "\u001b[0;31mOSError\u001b[0m                                   Traceback (most recent call last)",
      "Cell \u001b[0;32mIn[9], line 3\u001b[0m\n\u001b[1;32m      1\u001b[0m playlists \u001b[38;5;241m=\u001b[39m []\n\u001b[1;32m      2\u001b[0m \u001b[38;5;66;03m#results = spotify_client.user_playlists('11158573764')\u001b[39;00m\n\u001b[0;32m----> 3\u001b[0m results \u001b[38;5;241m=\u001b[39m \u001b[43mspotify_client\u001b[49m\u001b[38;5;241;43m.\u001b[39;49m\u001b[43mcurrent_user_playlists\u001b[49m\u001b[43m(\u001b[49m\u001b[43m)\u001b[49m\n\u001b[1;32m      4\u001b[0m playlists\u001b[38;5;241m.\u001b[39mextend(results[\u001b[38;5;124m'\u001b[39m\u001b[38;5;124mitems\u001b[39m\u001b[38;5;124m'\u001b[39m])\n",
      "File \u001b[0;32m~/migrate-music/.venv/lib/python3.10/site-packages/spotipy/client.py:637\u001b[0m, in \u001b[0;36mSpotify.current_user_playlists\u001b[0;34m(self, limit, offset)\u001b[0m\n\u001b[1;32m    631\u001b[0m \u001b[38;5;28;01mdef\u001b[39;00m \u001b[38;5;21mcurrent_user_playlists\u001b[39m(\u001b[38;5;28mself\u001b[39m, limit\u001b[38;5;241m=\u001b[39m\u001b[38;5;241m50\u001b[39m, offset\u001b[38;5;241m=\u001b[39m\u001b[38;5;241m0\u001b[39m):\n\u001b[1;32m    632\u001b[0m \u001b[38;5;250m    \u001b[39m\u001b[38;5;124;03m\"\"\" Get current user playlists without required getting his profile\u001b[39;00m\n\u001b[1;32m    633\u001b[0m \u001b[38;5;124;03m        Parameters:\u001b[39;00m\n\u001b[1;32m    634\u001b[0m \u001b[38;5;124;03m            - limit  - the number of items to return\u001b[39;00m\n\u001b[1;32m    635\u001b[0m \u001b[38;5;124;03m            - offset - the index of the first item to return\u001b[39;00m\n\u001b[1;32m    636\u001b[0m \u001b[38;5;124;03m    \"\"\"\u001b[39;00m\n\u001b[0;32m--> 637\u001b[0m     \u001b[38;5;28;01mreturn\u001b[39;00m \u001b[38;5;28;43mself\u001b[39;49m\u001b[38;5;241;43m.\u001b[39;49m\u001b[43m_get\u001b[49m\u001b[43m(\u001b[49m\u001b[38;5;124;43m\"\u001b[39;49m\u001b[38;5;124;43mme/playlists\u001b[39;49m\u001b[38;5;124;43m\"\u001b[39;49m\u001b[43m,\u001b[49m\u001b[43m \u001b[49m\u001b[43mlimit\u001b[49m\u001b[38;5;241;43m=\u001b[39;49m\u001b[43mlimit\u001b[49m\u001b[43m,\u001b[49m\u001b[43m \u001b[49m\u001b[43moffset\u001b[49m\u001b[38;5;241;43m=\u001b[39;49m\u001b[43moffset\u001b[49m\u001b[43m)\u001b[49m\n",
      "File \u001b[0;32m~/migrate-music/.venv/lib/python3.10/site-packages/spotipy/client.py:323\u001b[0m, in \u001b[0;36mSpotify._get\u001b[0;34m(self, url, args, payload, **kwargs)\u001b[0m\n\u001b[1;32m    320\u001b[0m \u001b[38;5;28;01mif\u001b[39;00m args:\n\u001b[1;32m    321\u001b[0m     kwargs\u001b[38;5;241m.\u001b[39mupdate(args)\n\u001b[0;32m--> 323\u001b[0m \u001b[38;5;28;01mreturn\u001b[39;00m \u001b[38;5;28;43mself\u001b[39;49m\u001b[38;5;241;43m.\u001b[39;49m\u001b[43m_internal_call\u001b[49m\u001b[43m(\u001b[49m\u001b[38;5;124;43m\"\u001b[39;49m\u001b[38;5;124;43mGET\u001b[39;49m\u001b[38;5;124;43m\"\u001b[39;49m\u001b[43m,\u001b[49m\u001b[43m \u001b[49m\u001b[43murl\u001b[49m\u001b[43m,\u001b[49m\u001b[43m \u001b[49m\u001b[43mpayload\u001b[49m\u001b[43m,\u001b[49m\u001b[43m \u001b[49m\u001b[43mkwargs\u001b[49m\u001b[43m)\u001b[49m\n",
      "File \u001b[0;32m~/migrate-music/.venv/lib/python3.10/site-packages/spotipy/client.py:247\u001b[0m, in \u001b[0;36mSpotify._internal_call\u001b[0;34m(self, method, url, payload, params)\u001b[0m\n\u001b[1;32m    245\u001b[0m \u001b[38;5;28;01mif\u001b[39;00m \u001b[38;5;129;01mnot\u001b[39;00m url\u001b[38;5;241m.\u001b[39mstartswith(\u001b[38;5;124m\"\u001b[39m\u001b[38;5;124mhttp\u001b[39m\u001b[38;5;124m\"\u001b[39m):\n\u001b[1;32m    246\u001b[0m     url \u001b[38;5;241m=\u001b[39m \u001b[38;5;28mself\u001b[39m\u001b[38;5;241m.\u001b[39mprefix \u001b[38;5;241m+\u001b[39m url\n\u001b[0;32m--> 247\u001b[0m headers \u001b[38;5;241m=\u001b[39m \u001b[38;5;28;43mself\u001b[39;49m\u001b[38;5;241;43m.\u001b[39;49m\u001b[43m_auth_headers\u001b[49m\u001b[43m(\u001b[49m\u001b[43m)\u001b[49m\n\u001b[1;32m    249\u001b[0m \u001b[38;5;28;01mif\u001b[39;00m \u001b[38;5;124m\"\u001b[39m\u001b[38;5;124mcontent_type\u001b[39m\u001b[38;5;124m\"\u001b[39m \u001b[38;5;129;01min\u001b[39;00m args[\u001b[38;5;124m\"\u001b[39m\u001b[38;5;124mparams\u001b[39m\u001b[38;5;124m\"\u001b[39m]:\n\u001b[1;32m    250\u001b[0m     headers[\u001b[38;5;124m\"\u001b[39m\u001b[38;5;124mContent-Type\u001b[39m\u001b[38;5;124m\"\u001b[39m] \u001b[38;5;241m=\u001b[39m args[\u001b[38;5;124m\"\u001b[39m\u001b[38;5;124mparams\u001b[39m\u001b[38;5;124m\"\u001b[39m][\u001b[38;5;124m\"\u001b[39m\u001b[38;5;124mcontent_type\u001b[39m\u001b[38;5;124m\"\u001b[39m]\n",
      "File \u001b[0;32m~/migrate-music/.venv/lib/python3.10/site-packages/spotipy/client.py:238\u001b[0m, in \u001b[0;36mSpotify._auth_headers\u001b[0;34m(self)\u001b[0m\n\u001b[1;32m    236\u001b[0m     \u001b[38;5;28;01mreturn\u001b[39;00m {}\n\u001b[1;32m    237\u001b[0m \u001b[38;5;28;01mtry\u001b[39;00m:\n\u001b[0;32m--> 238\u001b[0m     token \u001b[38;5;241m=\u001b[39m \u001b[38;5;28;43mself\u001b[39;49m\u001b[38;5;241;43m.\u001b[39;49m\u001b[43mauth_manager\u001b[49m\u001b[38;5;241;43m.\u001b[39;49m\u001b[43mget_access_token\u001b[49m\u001b[43m(\u001b[49m\u001b[43mas_dict\u001b[49m\u001b[38;5;241;43m=\u001b[39;49m\u001b[38;5;28;43;01mFalse\u001b[39;49;00m\u001b[43m)\u001b[49m\n\u001b[1;32m    239\u001b[0m \u001b[38;5;28;01mexcept\u001b[39;00m \u001b[38;5;167;01mTypeError\u001b[39;00m:\n\u001b[1;32m    240\u001b[0m     token \u001b[38;5;241m=\u001b[39m \u001b[38;5;28mself\u001b[39m\u001b[38;5;241m.\u001b[39mauth_manager\u001b[38;5;241m.\u001b[39mget_access_token()\n",
      "File \u001b[0;32m~/migrate-music/.venv/lib/python3.10/site-packages/spotipy/oauth2.py:535\u001b[0m, in \u001b[0;36mSpotifyOAuth.get_access_token\u001b[0;34m(self, code, as_dict, check_cache)\u001b[0m\n\u001b[1;32m    528\u001b[0m             token_info \u001b[38;5;241m=\u001b[39m \u001b[38;5;28mself\u001b[39m\u001b[38;5;241m.\u001b[39mrefresh_access_token(\n\u001b[1;32m    529\u001b[0m                 token_info[\u001b[38;5;124m\"\u001b[39m\u001b[38;5;124mrefresh_token\u001b[39m\u001b[38;5;124m\"\u001b[39m]\n\u001b[1;32m    530\u001b[0m             )\n\u001b[1;32m    531\u001b[0m         \u001b[38;5;28;01mreturn\u001b[39;00m token_info \u001b[38;5;28;01mif\u001b[39;00m as_dict \u001b[38;5;28;01melse\u001b[39;00m token_info[\u001b[38;5;124m\"\u001b[39m\u001b[38;5;124maccess_token\u001b[39m\u001b[38;5;124m\"\u001b[39m]\n\u001b[1;32m    533\u001b[0m payload \u001b[38;5;241m=\u001b[39m {\n\u001b[1;32m    534\u001b[0m     \u001b[38;5;124m\"\u001b[39m\u001b[38;5;124mredirect_uri\u001b[39m\u001b[38;5;124m\"\u001b[39m: \u001b[38;5;28mself\u001b[39m\u001b[38;5;241m.\u001b[39mredirect_uri,\n\u001b[0;32m--> 535\u001b[0m     \u001b[38;5;124m\"\u001b[39m\u001b[38;5;124mcode\u001b[39m\u001b[38;5;124m\"\u001b[39m: code \u001b[38;5;129;01mor\u001b[39;00m \u001b[38;5;28;43mself\u001b[39;49m\u001b[38;5;241;43m.\u001b[39;49m\u001b[43mget_auth_response\u001b[49m\u001b[43m(\u001b[49m\u001b[43m)\u001b[49m,\n\u001b[1;32m    536\u001b[0m     \u001b[38;5;124m\"\u001b[39m\u001b[38;5;124mgrant_type\u001b[39m\u001b[38;5;124m\"\u001b[39m: \u001b[38;5;124m\"\u001b[39m\u001b[38;5;124mauthorization_code\u001b[39m\u001b[38;5;124m\"\u001b[39m,\n\u001b[1;32m    537\u001b[0m }\n\u001b[1;32m    538\u001b[0m \u001b[38;5;28;01mif\u001b[39;00m \u001b[38;5;28mself\u001b[39m\u001b[38;5;241m.\u001b[39mscope:\n\u001b[1;32m    539\u001b[0m     payload[\u001b[38;5;124m\"\u001b[39m\u001b[38;5;124mscope\u001b[39m\u001b[38;5;124m\"\u001b[39m] \u001b[38;5;241m=\u001b[39m \u001b[38;5;28mself\u001b[39m\u001b[38;5;241m.\u001b[39mscope\n",
      "File \u001b[0;32m~/migrate-music/.venv/lib/python3.10/site-packages/spotipy/oauth2.py:490\u001b[0m, in \u001b[0;36mSpotifyOAuth.get_auth_response\u001b[0;34m(self, open_browser)\u001b[0m\n\u001b[1;32m    483\u001b[0m \u001b[38;5;28;01mif\u001b[39;00m (\n\u001b[1;32m    484\u001b[0m         open_browser\n\u001b[1;32m    485\u001b[0m         \u001b[38;5;129;01mand\u001b[39;00m redirect_host \u001b[38;5;129;01min\u001b[39;00m (\u001b[38;5;124m\"\u001b[39m\u001b[38;5;124m127.0.0.1\u001b[39m\u001b[38;5;124m\"\u001b[39m, \u001b[38;5;124m\"\u001b[39m\u001b[38;5;124mlocalhost\u001b[39m\u001b[38;5;124m\"\u001b[39m)\n\u001b[1;32m    486\u001b[0m         \u001b[38;5;129;01mand\u001b[39;00m redirect_info\u001b[38;5;241m.\u001b[39mscheme \u001b[38;5;241m==\u001b[39m \u001b[38;5;124m\"\u001b[39m\u001b[38;5;124mhttp\u001b[39m\u001b[38;5;124m\"\u001b[39m\n\u001b[1;32m    487\u001b[0m ):\n\u001b[1;32m    488\u001b[0m     \u001b[38;5;66;03m# Only start a local http server if a port is specified\u001b[39;00m\n\u001b[1;32m    489\u001b[0m     \u001b[38;5;28;01mif\u001b[39;00m redirect_port:\n\u001b[0;32m--> 490\u001b[0m         \u001b[38;5;28;01mreturn\u001b[39;00m \u001b[38;5;28;43mself\u001b[39;49m\u001b[38;5;241;43m.\u001b[39;49m\u001b[43m_get_auth_response_local_server\u001b[49m\u001b[43m(\u001b[49m\u001b[43mredirect_port\u001b[49m\u001b[43m)\u001b[49m\n\u001b[1;32m    491\u001b[0m     \u001b[38;5;28;01melse\u001b[39;00m:\n\u001b[1;32m    492\u001b[0m         logger\u001b[38;5;241m.\u001b[39mwarning(\u001b[38;5;124m'\u001b[39m\u001b[38;5;124mUsing `\u001b[39m\u001b[38;5;132;01m%s\u001b[39;00m\u001b[38;5;124m` as redirect URI without a port. \u001b[39m\u001b[38;5;124m'\u001b[39m\n\u001b[1;32m    493\u001b[0m                        \u001b[38;5;124m'\u001b[39m\u001b[38;5;124mSpecify a port (e.g. `\u001b[39m\u001b[38;5;132;01m%s\u001b[39;00m\u001b[38;5;124m:8080`) to allow \u001b[39m\u001b[38;5;124m'\u001b[39m\n\u001b[1;32m    494\u001b[0m                        \u001b[38;5;124m'\u001b[39m\u001b[38;5;124mautomatic retrieval of authentication code \u001b[39m\u001b[38;5;124m'\u001b[39m\n\u001b[1;32m    495\u001b[0m                        \u001b[38;5;124m'\u001b[39m\u001b[38;5;124minstead of having to copy and paste \u001b[39m\u001b[38;5;124m'\u001b[39m\n\u001b[1;32m    496\u001b[0m                        \u001b[38;5;124m'\u001b[39m\u001b[38;5;124mthe URL your browser is redirected to.\u001b[39m\u001b[38;5;124m'\u001b[39m,\n\u001b[1;32m    497\u001b[0m                        redirect_host, redirect_host)\n",
      "File \u001b[0;32m~/migrate-music/.venv/lib/python3.10/site-packages/spotipy/oauth2.py:457\u001b[0m, in \u001b[0;36mSpotifyOAuth._get_auth_response_local_server\u001b[0;34m(self, redirect_port)\u001b[0m\n\u001b[1;32m    456\u001b[0m \u001b[38;5;28;01mdef\u001b[39;00m \u001b[38;5;21m_get_auth_response_local_server\u001b[39m(\u001b[38;5;28mself\u001b[39m, redirect_port):\n\u001b[0;32m--> 457\u001b[0m     server \u001b[38;5;241m=\u001b[39m \u001b[43mstart_local_http_server\u001b[49m\u001b[43m(\u001b[49m\u001b[43mredirect_port\u001b[49m\u001b[43m)\u001b[49m\n\u001b[1;32m    458\u001b[0m     \u001b[38;5;28mself\u001b[39m\u001b[38;5;241m.\u001b[39m_open_auth_url()\n\u001b[1;32m    459\u001b[0m     server\u001b[38;5;241m.\u001b[39mhandle_request()\n",
      "File \u001b[0;32m~/migrate-music/.venv/lib/python3.10/site-packages/spotipy/oauth2.py:1303\u001b[0m, in \u001b[0;36mstart_local_http_server\u001b[0;34m(port, handler)\u001b[0m\n\u001b[1;32m   1302\u001b[0m \u001b[38;5;28;01mdef\u001b[39;00m \u001b[38;5;21mstart_local_http_server\u001b[39m(port, handler\u001b[38;5;241m=\u001b[39mRequestHandler):\n\u001b[0;32m-> 1303\u001b[0m     server \u001b[38;5;241m=\u001b[39m \u001b[43mHTTPServer\u001b[49m\u001b[43m(\u001b[49m\u001b[43m(\u001b[49m\u001b[38;5;124;43m\"\u001b[39;49m\u001b[38;5;124;43m127.0.0.1\u001b[39;49m\u001b[38;5;124;43m\"\u001b[39;49m\u001b[43m,\u001b[49m\u001b[43m \u001b[49m\u001b[43mport\u001b[49m\u001b[43m)\u001b[49m\u001b[43m,\u001b[49m\u001b[43m \u001b[49m\u001b[43mhandler\u001b[49m\u001b[43m)\u001b[49m\n\u001b[1;32m   1304\u001b[0m     server\u001b[38;5;241m.\u001b[39mallow_reuse_address \u001b[38;5;241m=\u001b[39m \u001b[38;5;28;01mTrue\u001b[39;00m\n\u001b[1;32m   1305\u001b[0m     server\u001b[38;5;241m.\u001b[39mauth_code \u001b[38;5;241m=\u001b[39m \u001b[38;5;28;01mNone\u001b[39;00m\n",
      "File \u001b[0;32m/opt/homebrew/Cellar/python@3.10/3.10.13_1/Frameworks/Python.framework/Versions/3.10/lib/python3.10/socketserver.py:452\u001b[0m, in \u001b[0;36mTCPServer.__init__\u001b[0;34m(self, server_address, RequestHandlerClass, bind_and_activate)\u001b[0m\n\u001b[1;32m    450\u001b[0m \u001b[38;5;28;01mif\u001b[39;00m bind_and_activate:\n\u001b[1;32m    451\u001b[0m     \u001b[38;5;28;01mtry\u001b[39;00m:\n\u001b[0;32m--> 452\u001b[0m         \u001b[38;5;28;43mself\u001b[39;49m\u001b[38;5;241;43m.\u001b[39;49m\u001b[43mserver_bind\u001b[49m\u001b[43m(\u001b[49m\u001b[43m)\u001b[49m\n\u001b[1;32m    453\u001b[0m         \u001b[38;5;28mself\u001b[39m\u001b[38;5;241m.\u001b[39mserver_activate()\n\u001b[1;32m    454\u001b[0m     \u001b[38;5;28;01mexcept\u001b[39;00m:\n",
      "File \u001b[0;32m/opt/homebrew/Cellar/python@3.10/3.10.13_1/Frameworks/Python.framework/Versions/3.10/lib/python3.10/http/server.py:137\u001b[0m, in \u001b[0;36mHTTPServer.server_bind\u001b[0;34m(self)\u001b[0m\n\u001b[1;32m    135\u001b[0m \u001b[38;5;28;01mdef\u001b[39;00m \u001b[38;5;21mserver_bind\u001b[39m(\u001b[38;5;28mself\u001b[39m):\n\u001b[1;32m    136\u001b[0m \u001b[38;5;250m    \u001b[39m\u001b[38;5;124;03m\"\"\"Override server_bind to store the server name.\"\"\"\u001b[39;00m\n\u001b[0;32m--> 137\u001b[0m     \u001b[43msocketserver\u001b[49m\u001b[38;5;241;43m.\u001b[39;49m\u001b[43mTCPServer\u001b[49m\u001b[38;5;241;43m.\u001b[39;49m\u001b[43mserver_bind\u001b[49m\u001b[43m(\u001b[49m\u001b[38;5;28;43mself\u001b[39;49m\u001b[43m)\u001b[49m\n\u001b[1;32m    138\u001b[0m     host, port \u001b[38;5;241m=\u001b[39m \u001b[38;5;28mself\u001b[39m\u001b[38;5;241m.\u001b[39mserver_address[:\u001b[38;5;241m2\u001b[39m]\n\u001b[1;32m    139\u001b[0m     \u001b[38;5;28mself\u001b[39m\u001b[38;5;241m.\u001b[39mserver_name \u001b[38;5;241m=\u001b[39m socket\u001b[38;5;241m.\u001b[39mgetfqdn(host)\n",
      "File \u001b[0;32m/opt/homebrew/Cellar/python@3.10/3.10.13_1/Frameworks/Python.framework/Versions/3.10/lib/python3.10/socketserver.py:466\u001b[0m, in \u001b[0;36mTCPServer.server_bind\u001b[0;34m(self)\u001b[0m\n\u001b[1;32m    464\u001b[0m \u001b[38;5;28;01mif\u001b[39;00m \u001b[38;5;28mself\u001b[39m\u001b[38;5;241m.\u001b[39mallow_reuse_address:\n\u001b[1;32m    465\u001b[0m     \u001b[38;5;28mself\u001b[39m\u001b[38;5;241m.\u001b[39msocket\u001b[38;5;241m.\u001b[39msetsockopt(socket\u001b[38;5;241m.\u001b[39mSOL_SOCKET, socket\u001b[38;5;241m.\u001b[39mSO_REUSEADDR, \u001b[38;5;241m1\u001b[39m)\n\u001b[0;32m--> 466\u001b[0m \u001b[38;5;28;43mself\u001b[39;49m\u001b[38;5;241;43m.\u001b[39;49m\u001b[43msocket\u001b[49m\u001b[38;5;241;43m.\u001b[39;49m\u001b[43mbind\u001b[49m\u001b[43m(\u001b[49m\u001b[38;5;28;43mself\u001b[39;49m\u001b[38;5;241;43m.\u001b[39;49m\u001b[43mserver_address\u001b[49m\u001b[43m)\u001b[49m\n\u001b[1;32m    467\u001b[0m \u001b[38;5;28mself\u001b[39m\u001b[38;5;241m.\u001b[39mserver_address \u001b[38;5;241m=\u001b[39m \u001b[38;5;28mself\u001b[39m\u001b[38;5;241m.\u001b[39msocket\u001b[38;5;241m.\u001b[39mgetsockname()\n",
      "\u001b[0;31mOSError\u001b[0m: [Errno 48] Address already in use"
     ]
    }
   ],
   "source": [
    "playlists = []\n",
    "#results = spotify_client.user_playlists('')\n",
    "results = spotify_client.current_user_playlists()\n",
    "playlists.extend(results['items'])"
   ]
  },
  {
   "cell_type": "code",
   "execution_count": null,
   "id": "ed69feb0-f1db-4308-97da-e1f0947e4146",
   "metadata": {
    "tags": []
   },
   "outputs": [],
   "source": [
    "#for playlist in playlists['items']:\n",
    "   # print(playlist['name'])"
   ]
  },
  {
   "cell_type": "code",
   "execution_count": null,
   "id": "c55d7703-200b-4b2c-9982-adb82195a0ff",
   "metadata": {
    "tags": []
   },
   "outputs": [],
   "source": [
    "\n",
    "while results['next']:\n",
    "    results = spotify_client.next(results)\n",
    "    playlists.extend(results['items'])\n",
    "for playlist in playlists:\n",
    "    print(playlist['name'])"
   ]
  },
  {
   "cell_type": "code",
   "execution_count": null,
   "id": "ac07cf19-87ad-455e-b547-0ddbd6c5007c",
   "metadata": {},
   "outputs": [],
   "source": []
  }
 ],
 "metadata": {
  "kernelspec": {
   "display_name": "Python 3 (ipykernel)",
   "language": "python",
   "name": "python3"
  },
  "language_info": {
   "codemirror_mode": {
    "name": "ipython",
    "version": 3
   },
   "file_extension": ".py",
   "mimetype": "text/x-python",
   "name": "python",
   "nbconvert_exporter": "python",
   "pygments_lexer": "ipython3",
   "version": "3.10.13"
  }
 },
 "nbformat": 4,
 "nbformat_minor": 5
}
